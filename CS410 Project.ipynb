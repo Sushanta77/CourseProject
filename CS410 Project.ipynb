{
 "cells": [
  {
   "cell_type": "markdown",
   "id": "bf8a2dd1",
   "metadata": {},
   "source": [
    "## Import Python Library\n",
    "### We have imported all the relevance Library\n",
    "- Pandas\n",
    "- Numpy\n",
    "- gensim\n",
    "- nltk - Natural Language Tool Kit\n",
    "- pyLDAvis\n",
    "- pickle"
   ]
  },
  {
   "cell_type": "code",
   "execution_count": 30,
   "id": "6363436a",
   "metadata": {},
   "outputs": [
    {
     "name": "stderr",
     "output_type": "stream",
     "text": [
      "[nltk_data] Downloading package stopwords to\n",
      "[nltk_data]     /Users/sushanta/nltk_data...\n",
      "[nltk_data]   Package stopwords is already up-to-date!\n"
     ]
    }
   ],
   "source": [
    "import pandas as pd\n",
    "import numpy as np\n",
    "import os\n",
    "import re\n",
    "\n",
    "import gensim\n",
    "from gensim.utils import simple_preprocess\n",
    "import nltk\n",
    "nltk.download('stopwords')\n",
    "\n",
    "import gensim.corpora as corpora\n",
    "from nltk.corpus import stopwords\n",
    "from pprint import pprint\n",
    "\n",
    "import pyLDAvis\n",
    "import pyLDAvis.gensim_models as gensimvis\n",
    "\n",
    "import pickle \n",
    "\n",
    "import warnings\n",
    "warnings.filterwarnings('ignore')"
   ]
  },
  {
   "cell_type": "markdown",
   "id": "8ce62c0f",
   "metadata": {},
   "source": [
    "## Import Data\n",
    "##### The data is extracted from the www.quora.com. The data is extracted by manually from searching the relevance of UUIC in the Computer Science Department. These documents (text extracted) are stored in the excel sheet (quora_data.xls) with 4 columns as below\n",
    "\n",
    "- URL \n",
    "- Relevance\n",
    "- Question\n",
    "- Answer\n",
    "\n",
    "##### We are interested in those questions and its related answer where \"Relevance\" = \"Yes\". These questions are related only to University of Illinois Urbana Champaign (UIUC UC) Computer Science Department, where users are raising question related to know the feedback of the department. Other questions like comparision of of University and other questions, which we have marked as \"Relevance\" = \"No\".\n"
   ]
  },
  {
   "cell_type": "code",
   "execution_count": 4,
   "id": "df147ac4",
   "metadata": {},
   "outputs": [
    {
     "data": {
      "text/plain": [
       "Index(['URL', 'Relevance', 'Question', 'Answer'], dtype='object')"
      ]
     },
     "execution_count": 4,
     "metadata": {},
     "output_type": "execute_result"
    }
   ],
   "source": [
    "# Read the Quora data from the quora_data.csv file\n",
    "quora_data = pd.read_csv('quora_data.csv')\n",
    "\n",
    "# Print all the Columns\n",
    "quora_data.columns"
   ]
  },
  {
   "cell_type": "markdown",
   "id": "32f4c38c",
   "metadata": {},
   "source": [
    "## Data Description & Extraction"
   ]
  },
  {
   "cell_type": "code",
   "execution_count": 5,
   "id": "78554572",
   "metadata": {},
   "outputs": [
    {
     "name": "stdout",
     "output_type": "stream",
     "text": [
      "Number of rows & data in the quora_data: (56, 4)\n",
      "Number of Distinct URL in quora_data: 12\n",
      "Relevanced Data in quora_data (Relevance = Yes): (40, 4)\n",
      "Number of Distinct URL which are Relevance: 9\n",
      "-----------------------------------------------------------\n",
      "1.What is it like to study computer science at UIUC?\n",
      "2.How hard is it to get into computer science at UIUC?\n",
      "3.How is life as a computer science student at UIUC's college of engineering?\n",
      "4.How is the University of Illinois, Chicago for an MS in CS?\n",
      "5.Why UIUC CS is so highly ranked when it is relatively easier to get into it as compared with other top CS schools?\n",
      "6.How's the University of Illinois? How difficult is it to get into its CS program?\n",
      "7.What's the reputation of the University of Illinois at Chicago (UIC) for CS?\n",
      "8.How good is the MS in Computer Science and Engineering program of the University of Illinois at Chicago, considering the quality of education, job & internship scene and part time jobs?\n",
      "9.According to the U.S. News and World Report rankings, CS at UIUC ranks better than at prestigious colleges like Caltech, Yale and Brown. Is that actually true?\n",
      "-----------------------------------------------------------\n",
      "1.Background: I got my MS in CS from UIUC and taught a couple of undergraduate courses there.\n",
      "\n",
      "The course levels at UIUC range from 100(Undergraduate) to 500 (Graduate). I found most 400 and 500 level courses to be rigorous, thorough with a right mix of theory and practice. The assignments, machine problems, take homes and exams were well thought and tested the right abilities of a candidate to get an A. Some advance courses such as Advance algorithms and Machine learning are very hard, while some are easy. Almost every professor I worked with had a very relevant background, solid research experience and knowledge. Students ranked from ok'ish to some of the smartest people I have met. I have personally learned a lot from my peers and other students in my classes as well as my TA classes. The Computer Science building (Siebel center) is a state of the art building with fully equipped labs and a nice cafe. The staff is also very helpful. TAs and professors are busy but approachable. Scholarships are plenty and department funding is very good. Alumni network is well established and very strong. The reputation of UIUC CS in both academia and industry is very good. You grow both as an engineer and human being in such a competitive environment with high expectations and tight deadlines and you learn a lot. Last but not the least, the opportunities in terms of research projects, hackathons, startup opportunities, internships and full time jobs are ample and you find your journey to be both challenging and rewarding.\n",
      "\n",
      "Also, I found UIUC�s CS students to be at par with most Stanford Engineering students that I have worked with for assignments, projects and general brain storming sessions. But personally speaking, I think UIUC has a slight edge when it comes to forming the habbit of self study because of its location (less distractions) and weather (ice ice everywhere) that keeps students at home or inside Siebel center. :)\n",
      "\n",
      "\n",
      "\n",
      "2.Thanks for the A2A.\n",
      "\n",
      "As a current CS student here at UIUC, I can say that it's really an amazing place, inside and out.\n",
      "\n",
      "Other people mentioned that the courseload can be a lot to handle. It definitely can be if you decide to take 18 (the maximum amount) credit hours a semester, all of them being from technical classes. However, if you pace yourself well, be reasonable about your schedule, and take a good balance of both gen-eds and core classes, you shouldn't be working your head off every single week. Some also mentioned that it can be hard to stand out from the 400 other CS students in your class. It can be�but as long as you pursue what you're interested in and actively apply for jobs/internships, you should be fine.\n",
      "\n",
      "It is especially interesting/fun after you finish the basic classes and can start diving into the many different specific fields within CS that interest you most. Not to mention you can start getting better internships from your advanced knowledge of the field.\n",
      "\n",
      "One of the best parts of UIUC, however, is that it's more than just a small technical school like some of its competitors. You get the actual college experience (big 10 sports, great parties, a top rec center in the nation, clubs for almost anything you can think of, etc). If you balance yourself correctly, you can get so much more than just a world-class CS degree from this amazing University.\n",
      "\n",
      "\n",
      "\n",
      "3.Even graduating just a year ago, I am not sure I will provide the most accurate picture for you.\n",
      "\n",
      "CS starts with getting in, which required very high standards (mine were way lower than today even). You struggle to find space in your core classes as many are full and you need them to fit your schedule.\n",
      "\n",
      "The beginning classes have a decent amount of work to them. Many students go into these classes already experienced while the new to Cs students work much harder.\n",
      "\n",
      "Then, the class difficulty increases. It gets much harder to save your homework til the last days. You still struggle to register for the classes you need, especially the tech elective you want.\n",
      "\n",
      "Then, it is coming down to the graduate on time portion. You have to hope your classes fit your schedule. You may be taking all CS classes without a gened reliever because you can finally have registration priority. You may still not get the electives you most wanted.\n",
      "\n",
      "Then, graduation comes and you hopefully have a CS job lined up. You are mostly relieved that your large workloads are over and you tend to be able to show your companies some very good technical ability.\n",
      "\n",
      "You then get into the work place and being the developer with a uiuc degree is both a blessing and a curse. You are the guy that gets things done. There are quite a few blocks that frustrate you especially since uiuc taught you in a way to be self-reliant. You may even find that you work with programmers rather than computer scientists (and being a uiuc student, you hopefully learned the difference).\n",
      "\n",
      "\n",
      "\n",
      "4.CS has been very difficult to get in. A lot of people I know were admitted to Computer Engineering (CompE) while their first choice was CS. You can try to transfer into CS after you come, but this path has been more and more difficult. I will say if you are really passionate about CS and are willing to get good grades, then transferring into CS might be easier than admitted into CS as a Freshman. Another way is to choose CompE which many friends of mine did and focus on taking CS classes (though you will have to fight for registering a CS class and go through 3 ~ 4 mandatory hardware classes). Hope that helps!\n",
      "\n",
      "\n",
      "\n",
      "5.The Computer Science major at UIUC is extremely selective.\n",
      "\n",
      "My friend applied to UIUC as Computer Science major and he was put in pre-engineering in UIUC�s College of LAS. He had a very high GPA and SAT score, however he had no extracurricular activities. Perhaps if my friend was more involved or had a higher SAT score, then maybe he would have been accepted to the Computer Science major.\n",
      "\n",
      "If one is put into pre-engineering, one can still be a Computer Science major. However, it is very difficult. One of the opinions of an Assistant Dean at UIUC�s College of Engineering is: if one is put in pre-engineering at UIUC and wants to be a Computer Science major, go to another university if one is accepted into their Computer Science major. The way to get into the Computer Science major through pre-engineering is one must have at least a 3.75 GPA and a few more unspecified items by the end of Freshmen year.\n",
      "\n",
      "\n",
      "\n",
      "-----------------------------------------------------------\n"
     ]
    }
   ],
   "source": [
    "#Total Number of data in the quora_data\n",
    "print (\"Number of rows & data in the quora_data: {}\".format(quora_data.shape))\n",
    "\n",
    "#Total Number of distinct URL for the questions\n",
    "print (\"Number of Distinct URL in quora_data: {}\".format(len(quora_data['URL'].unique())))\n",
    "\n",
    "#Total Number of data in the quora_data which are relevanced\n",
    "quora_data_relevance = quora_data[quora_data[\"Relevance\"] == \"Yes\"]\n",
    "print (\"Relevanced Data in quora_data (Relevance = Yes): {}\".format(quora_data_relevance.shape))\n",
    "\n",
    "\n",
    "#Total Number of distinct URL for the questions which are Relevanced\n",
    "print (\"Number of Distinct URL which are Relevance: {}\".format(len(quora_data_relevance['URL'].unique())))\n",
    "\n",
    "#Show all the Questions \n",
    "print (\"-----------------------------------------------------------\")\n",
    "for i in np.arange(len(quora_data_relevance[\"Question\"].unique())):\n",
    "    print (\"{}.{}\".format(i+1,quora_data_relevance[\"Question\"].unique()[i]))\n",
    "print (\"-----------------------------------------------------------\")\n",
    "\n",
    "#Show some of the answers to the questions \n",
    "for i in np.arange(5):\n",
    "    print (\"{}.{}\".format(i+1,quora_data_relevance[\"Answer\"].unique()[i]))\n",
    "    print (\"\\n\\n\")\n",
    "print (\"-----------------------------------------------------------\")"
   ]
  },
  {
   "cell_type": "markdown",
   "id": "91b1fdaa",
   "metadata": {},
   "source": [
    "## Data Cleaning\n",
    "#### Following Data Cleaning are done as part of the data cleaning\n",
    "- remove the special character and HTML character (\".\", \"!\", \"?\")\n",
    "- lower the text data"
   ]
  },
  {
   "cell_type": "code",
   "execution_count": 6,
   "id": "67d6d343",
   "metadata": {},
   "outputs": [],
   "source": [
    "# Remove the special characters (., !, ?, [, ])\n",
    "quora_data_relevance['Answer_processed'] = quora_data_relevance['Answer'].map(lambda x: re.sub('[,\\.!?]', '', x))\n",
    "\n",
    "# Convert to the lowercase\n",
    "quora_data_relevance['Answer_processed'] = quora_data_relevance['Answer_processed'].map(lambda x: x.lower())\n"
   ]
  },
  {
   "cell_type": "code",
   "execution_count": 9,
   "id": "c345cced",
   "metadata": {},
   "outputs": [],
   "source": [
    "stopp_words = stopwords.words('english')\n",
    "\n",
    "#Below are some of the words which are extended other than included of the english stop words\n",
    "stopp_words.extend(['uiuc','cs','uic','university','graduate',\"illinois\",'school',\\\n",
    "                       'also','know','like','get','department','take','many','would',\\\n",
    "                       'chicago','since','taking','go','really','one','may','even',\\\n",
    "                       'lot',\"computer\",\"science\"])\n",
    "\n",
    "def convert_words(sentences):\n",
    "    for sentence in sentences:\n",
    "        yield(gensim.utils.simple_preprocess(str(sentence), deacc=True))\n",
    "\n",
    "text_data = quora_data_relevance.Answer_processed.values.tolist() # Convert the text into list\n",
    "final_data = list(convert_words(text_data))\n",
    "\n",
    "#Removing the stop words\n",
    "final_data = [[word for word in simple_preprocess(str(doc)) if word not in stopp_words] for doc in final_data]\n"
   ]
  },
  {
   "cell_type": "markdown",
   "id": "d681ab1d",
   "metadata": {},
   "source": [
    "## Create the Model and fit into LDA to generate the the Top Topics"
   ]
  },
  {
   "cell_type": "code",
   "execution_count": 15,
   "id": "55621d4c",
   "metadata": {},
   "outputs": [],
   "source": [
    "# Create Dictionary\n",
    "id_to_word = corpora.Dictionary(final_data)\n",
    "\n",
    "corpus = [id_as_word.doc2bow(text) for text in final_data]\n",
    "\n",
    "# Number of Topics\n",
    "num_topics = 5\n",
    "\n",
    "# Create the LDA model\n",
    "lda_model = gensim.models.LdaMulticore(corpus=corpus,id2word=id_to_word,num_topics=num_topics)\n",
    "doc_lda = lda_model[corpus]"
   ]
  },
  {
   "cell_type": "code",
   "execution_count": 27,
   "id": "486510f5",
   "metadata": {},
   "outputs": [
    {
     "data": {
      "text/html": [
       "\n",
       "<link rel=\"stylesheet\" type=\"text/css\" href=\"https://cdn.jsdelivr.net/gh/bmabey/pyLDAvis@3.3.1/pyLDAvis/js/ldavis.v1.0.0.css\">\n",
       "\n",
       "\n",
       "<div id=\"ldavis_el58851402312323634248841326781\"></div>\n",
       "<script type=\"text/javascript\">\n",
       "\n",
       "var ldavis_el58851402312323634248841326781_data = {\"mdsDat\": {\"x\": [0.004100199585432415, 0.013316693258022549, 0.023237746307197833, -0.05289606223611042, 0.012241423085457618], \"y\": [-0.0028009801192135594, 0.0017376717344802122, -0.031331914467139704, -0.004910597719608828, 0.03730582057148188], \"topics\": [1, 2, 3, 4, 5], \"cluster\": [1, 1, 1, 1, 1], \"Freq\": [27.57378815308657, 25.833277765192197, 19.45028446562911, 16.304884887094552, 10.837764728997566]}, \"tinfo\": {\"Term\": [\"scholarship\", \"first\", \"applied\", \"option\", \"better\", \"admit\", \"yale\", \"ms\", \"reputation\", \"people\", \"else\", \"major\", \"rate\", \"facilities\", \"pursue\", \"online\", \"availablecoming\", \"serve\", \"fro\", \"availing\", \"completion\", \"csdefinitely\", \"basisif\", \"application\", \"eligible\", \"claim\", \"congrats\", \"schools\", \"deadline\", \"business\", \"tell\", \"face\", \"name\", \"eecs\", \"enough\", \"grad\", \"coders\", \"ra\", \"record\", \"architects\", \"certainly\", \"examples\", \"coast\", \"oh\", \"thinks\", \"yeah\", \"came\", \"wasting\", \"across\", \"match\", \"trying\", \"long\", \"hi\", \"friendly\", \"league\", \"limited\", \"electrical\", \"straight\", \"guy\", \"issue\", \"prestigious\", \"admission\", \"good\", \"number\", \"time\", \"size\", \"students\", \"math\", \"true\", \"admitted\", \"said\", \"great\", \"much\", \"classes\", \"research\", \"student\", \"program\", \"faculty\", \"course\", \"schools\", \"high\", \"programs\", \"well\", \"opportunities\", \"top\", \"work\", \"engineering\", \"class\", \"caltech\", \"better\", \"think\", \"technical\", \"courses\", \"yale\", \"demands\", \"competence\", \"preferably\", \"majors\", \"whole\", \"ease\", \"interest\", \"show\", \"india\", \"connected\", \"shortage\", \"netscape\", \"programme\", \"china\", \"applicant\", \"generally\", \"party\", \"dominant\", \"sergey\", \"ncsa\", \"rarely\", \"gone\", \"guys\", \"perhaps\", \"auditing\", \"founders\", \"ago\", \"seems\", \"changed\", \"talking\", \"college\", \"put\", \"area\", \"campus\", \"major\", \"place\", \"gpa\", \"work\", \"find\", \"able\", \"however\", \"tons\", \"courses\", \"give\", \"yes\", \"learning\", \"caltech\", \"students\", \"research\", \"engineering\", \"high\", \"yale\", \"good\", \"program\", \"well\", \"opportunities\", \"great\", \"undergrad\", \"course\", \"schools\", \"might\", \"want\", \"classes\", \"year\", \"student\", \"top\", \"programs\", \"compe\", \"choose\", \"mandatory\", \"transfer\", \"path\", \"registering\", \"fight\", \"choice\", \"hardware\", \"directly\", \"difficult\", \"act\", \"admit\", \"saying\", \"bit\", \"lower\", \"rate\", \"premise\", \"mine\", \"rates\", \"transferring\", \"based\", \"ucb\", \"reasons\", \"wrong\", \"overall\", \"scores\", \"misguided\", \"acceptance\", \"sats\", \"yale\", \"perfect\", \"higher\", \"kids\", \"might\", \"selective\", \"simply\", \"schools\", \"top\", \"say\", \"average\", \"admitted\", \"professors\", \"programs\", \"classes\", \"students\", \"caltech\", \"better\", \"ranked\", \"gpa\", \"going\", \"research\", \"people\", \"class\", \"good\", \"want\", \"work\", \"college\", \"engineering\", \"give\", \"year\", \"ranking\", \"well\", \"high\", \"program\", \"option\", \"availablecoming\", \"serve\", \"fro\", \"availing\", \"completion\", \"csdefinitely\", \"basisif\", \"application\", \"eligible\", \"claim\", \"congrats\", \"deadline\", \"scholarship\", \"applied\", \"first\", \"facilities\", \"business\", \"away\", \"online\", \"coursera\", \"priority\", \"normal\", \"pursue\", \"blown\", \"interviews\", \"vision\", \"signed\", \"offer\", \"body\", \"ms\", \"accounting\", \"pre\", \"masters\", \"program\", \"major\", \"engineering\", \"research\", \"come\", \"however\", \"students\", \"student\", \"opportunities\", \"think\", \"good\", \"math\", \"semester\", \"programs\", \"classes\", \"work\", \"well\", \"questions\", \"technical\", \"happened\", \"helped\", \"ent\", \"ultimately\", \"residency\", \"forever\", \"chance\", \"univ\", \"resort\", \"geared\", \"commute\", \"nwu\", \"shadowed\", \"else\", \"someone\", \"james\", \"harvard\", \"never\", \"background\", \"city\", \"reputation\", \"equal\", \"without\", \"yocket\", \"profile\", \"abroad\", \"specializations\", \"service\", \"information\", \"check\", \"three\", \"example\", \"better\", \"study\", \"people\", \"job\", \"last\", \"research\", \"course\", \"experience\", \"schools\", \"engineering\", \"students\", \"well\", \"good\", \"program\", \"ranked\", \"opportunities\", \"admit\", \"find\", \"ranking\", \"best\", \"important\", \"courses\", \"universities\", \"caltech\", \"college\", \"programs\"], \"Freq\": [5.0, 6.0, 4.0, 3.0, 12.0, 5.0, 13.0, 6.0, 5.0, 9.0, 3.0, 9.0, 6.0, 2.0, 3.0, 2.0, 1.0, 1.0, 1.0, 1.0, 1.0, 1.0, 1.0, 1.0, 1.0, 1.0, 1.0, 14.0, 1.0, 2.0, 2.202853093948784, 1.5093415741321077, 1.973894784603385, 1.4793104163694777, 2.818569366163837, 1.8707963968780976, 1.3695748050050756, 1.3703074902257841, 1.2867728901061974, 0.8588621548326062, 1.3046971850836204, 0.8545152382164108, 1.2909807978225663, 0.8500150507483288, 0.8498060860709924, 0.8494131602651843, 0.8468216372041346, 0.8466239557167192, 1.2412406152335729, 0.835471921595385, 1.2359495212847902, 1.6562005953813876, 0.822466555830391, 0.8203089391209423, 1.1998394321203354, 0.8102002841379805, 0.8068400599139947, 0.8025862070482674, 1.1860424377504857, 0.7804651070133575, 1.5144371529659395, 2.690307659604387, 10.261206599189977, 2.517123331490122, 2.2310354333437226, 1.8707193101245576, 11.05495102781961, 4.1170800233465465, 1.8005537555474977, 3.517241094926213, 2.391700656045828, 3.8710617113716705, 3.37701036102963, 4.682367477325349, 7.066779192682226, 3.562578937870119, 5.022977193418212, 2.166700309193668, 2.9325510675593005, 4.371979740303059, 3.5662837958470512, 3.710349009006378, 3.710885908315578, 3.6933029072668844, 3.674747566043561, 3.819469551121808, 4.141705540216316, 2.842702574890975, 3.5103094251629203, 3.277231216982536, 2.6794248875273268, 2.4272744777597186, 2.491946833890131, 2.53822235504923, 0.9615572993199302, 0.9614926049631212, 0.9611275258280301, 2.1582086480811298, 1.281278417458142, 1.1631542175934266, 2.7425586923191374, 2.008265564775276, 1.1063243266743408, 0.673947626880871, 1.015977346589826, 1.3612414035841929, 0.653960411054452, 0.6523115929175817, 0.6425772909802752, 1.2985588298524495, 0.9567588385360065, 0.6213833351218476, 0.6334710739946297, 0.9475052621820738, 0.9259453815106885, 0.9135392026371687, 0.6208176611967553, 0.9228574733479105, 0.63478635678084, 0.6090991875645049, 1.5329523197488744, 0.6225442816973699, 0.6035072695220703, 1.2073308225663182, 4.371057219677519, 1.4562082372871665, 2.3313102814977387, 2.368200103131479, 3.5348725943540904, 1.7846815293720946, 2.5055479985605866, 4.990641079150529, 2.963083403471438, 1.7328360637998383, 3.171671878940791, 1.450896027199171, 3.1352174122728718, 2.8888721262207504, 1.7533393545444627, 1.6371317144292417, 4.14638801043568, 7.481586250578622, 6.3473793326618795, 4.614068505307628, 3.3805482231559982, 3.8456913461564457, 5.3994617179519615, 4.311789746875213, 3.350269234542488, 3.3030276392770084, 2.8542693558099432, 1.8902099493855569, 2.402163033668277, 3.3493055000455003, 2.4766420525315884, 2.36942295332685, 3.1130751978224187, 2.3288397181777136, 2.5593292207699134, 2.7089600798073503, 2.3332632899632917, 1.4326166312588207, 1.6655233673605758, 0.7825097483551021, 0.7817548480537747, 0.7819279097119232, 0.7815478489917289, 0.779963042269391, 1.1901303784284298, 0.7788369317153022, 1.4654894321671623, 2.144520215693458, 1.3421957988943465, 2.804559042212439, 0.9742773469661835, 0.6239666771422858, 1.609512006271535, 2.9640704437038137, 0.6162034164102227, 0.9621558359114774, 0.6067138051493227, 0.9053246923174102, 1.537679320378696, 0.598525594635625, 0.592129508268449, 0.5874352585454935, 0.9068017652922915, 0.5748534595118486, 0.9145046645630137, 1.878991420703151, 0.888783359702596, 5.790131155328858, 1.4787301134813517, 2.1774004026033986, 1.4495234436079145, 3.056271175108715, 1.379881598603071, 1.1418626032913313, 4.5942050578528555, 3.773649824245658, 2.43185656243844, 1.737738342508574, 2.5499131385432245, 2.304042823532086, 3.2592800134632802, 3.4725602331445096, 5.455989461763316, 3.269901338451896, 3.0805790157493984, 1.7772055693959874, 1.9624760334973315, 1.6676585585468706, 3.8460509775718856, 2.364230331800906, 2.1502242464453234, 3.263672137517393, 1.9931139321977962, 2.4374487844074837, 2.19383731243699, 2.3889568823253216, 1.9684309336138415, 1.9156464911542936, 1.8909093710069005, 1.9823503630059787, 1.9403093692511348, 1.927530185692008, 2.5827627942770555, 1.3529533067463133, 1.3528750580414497, 1.3528056696947086, 1.3527696945057057, 1.352760620644978, 1.3526995588998458, 1.3526525883266671, 1.352569856067091, 1.3525651590097731, 1.352559607942034, 1.3524905398492006, 1.3522457591121582, 4.08808084756991, 3.067065912694759, 4.0166172555046025, 1.567619928308358, 1.5009735955277348, 1.1034318511031214, 1.4717106081835094, 1.0873404799912245, 1.3980468717699914, 1.3799958669948194, 1.7379934061142104, 1.014334331602208, 0.6578338727515847, 0.657288693848804, 0.651792763157339, 0.6411153377364497, 0.6376714873363797, 2.970259988378711, 1.2174326347468574, 1.459835806776123, 1.415071569521209, 4.300302437295399, 2.4546302731846974, 3.342985791226093, 4.1336239423291685, 1.489577573712863, 1.950823051259758, 2.882115651259417, 1.9321667665983973, 2.0149812246775434, 1.7874656960711681, 2.160765500673054, 1.7726984681176994, 1.5742518529872795, 1.788176659747009, 1.7962085210092607, 1.69600726476021, 1.6239755422620459, 1.4346655576253007, 1.4697905792535282, 0.6335795480192784, 0.633487729678261, 0.6334592759265237, 0.6333417711562571, 0.6332728009650138, 0.6050675405958075, 0.5884515075005787, 0.586586722406986, 0.5831976393213246, 0.5827340418475708, 0.5819246354982771, 0.5792472864694748, 0.5783688034934573, 1.1849804745591652, 0.9120608156048893, 0.6333701539510075, 0.6333326177049502, 0.632756801756452, 1.0145842953183328, 0.7944263359663488, 1.525308561475701, 0.5745558943251861, 0.9153557032904729, 0.5429250080220773, 0.5124903500822163, 0.5087527972340073, 0.505536104147961, 0.3279555654644347, 0.6566028905939228, 0.4864586086564999, 0.6292081718858001, 0.639892236356695, 2.579919693090743, 0.7855797736275929, 1.8009439571886792, 1.514470023644377, 0.859275842110902, 2.46461288644968, 1.230580627390044, 0.9538411409612763, 1.5306199757713113, 1.5822137943266124, 2.0209215438800245, 1.3305803089942845, 1.5235634453404743, 1.2638041077850892, 0.8898753331312759, 1.1020548888789308, 0.896301552647694, 0.9679158140930503, 0.956834532409624, 0.9613757795696832, 0.8348589752710014, 0.936445113187814, 0.8383597801324989, 0.9716127440662728, 0.8645567449021558, 0.848546152297446], \"Total\": [5.0, 6.0, 4.0, 3.0, 12.0, 5.0, 13.0, 6.0, 5.0, 9.0, 3.0, 9.0, 6.0, 2.0, 3.0, 2.0, 1.0, 1.0, 1.0, 1.0, 1.0, 1.0, 1.0, 1.0, 1.0, 1.0, 1.0, 14.0, 1.0, 2.0, 2.9445072843812863, 2.1860047952267037, 2.9419269048400922, 2.2507401037237864, 4.4001996154477245, 2.944393344297929, 2.1779558469115163, 2.2119205641202875, 2.147152306824178, 1.4417939358581955, 2.192783337365528, 1.4403002400163492, 2.176931813914541, 1.4387990814923957, 1.4387466236210946, 1.4386295929424084, 1.4377717153488445, 1.4377009365344005, 2.169482684214616, 1.4675319781141054, 2.1803814431086046, 2.9345803260193577, 1.4677977626565446, 1.4654368962257884, 2.152536521045053, 1.466633438646879, 1.465214971110112, 1.4661275168289074, 2.187481179645983, 1.4454246476795214, 2.850933200765394, 5.1626037064393575, 22.608669400672863, 4.994186438821782, 4.401674735234922, 3.6693222839359136, 28.895563935300988, 9.25846630821944, 3.5612085399523643, 8.026655614347657, 5.059054875765815, 10.134882134467983, 8.493049456256756, 13.629821563420316, 23.85844633169484, 10.013513818455507, 16.826403671065922, 4.956807213349837, 7.8224501194649525, 14.775463950061829, 10.822069659974732, 11.939615124477406, 11.998061357120376, 12.0142956516553, 12.065138125389268, 13.755547986830443, 16.06993051340197, 8.059517839928661, 12.913487182705998, 12.121351814467163, 8.519042164446963, 7.046782515148332, 8.592057163771868, 13.49507893828353, 1.4828032171810959, 1.4828030215092534, 1.4827120456829086, 3.7146452649667063, 2.208809941623358, 2.145058954182298, 5.11109998633986, 3.795488359662811, 2.206000017980891, 1.415788422363815, 2.1396048949114115, 2.931401269616616, 1.4111495527126856, 1.4107521686108966, 1.4084797650918761, 2.8855770420456643, 2.1379803794980274, 1.4035144930947971, 1.438913199872958, 2.164960373784472, 2.135515369371589, 2.108243809804745, 1.4383370762599221, 2.1451469491904662, 1.4770491271402646, 1.4379145590103466, 3.6344475121525983, 1.4769044770032984, 1.435364153287145, 2.8737410059830983, 10.700478499641711, 3.5288352802390883, 5.737067220640513, 5.8442591762613745, 9.051020248210023, 4.389289436393533, 6.364912730836747, 13.755547986830443, 7.784275625497482, 4.297232258140463, 8.535691925089136, 3.5355535192551577, 8.592057163771868, 7.856619153603136, 4.429808633072452, 4.153178921539416, 12.913487182705998, 28.895563935300988, 23.85844633169484, 16.06993051340197, 10.822069659974732, 13.49507893828353, 22.608669400672863, 16.826403671065922, 11.998061357120376, 12.0142956516553, 10.134882134467983, 5.034259436150735, 7.8224501194649525, 14.775463950061829, 8.47676859001507, 7.8253183019591175, 13.629821563420316, 7.74231081229362, 10.013513818455507, 12.065138125389268, 11.939615124477406, 2.019915105049064, 2.719894195076334, 1.3504413043590153, 1.3502504739780035, 1.3506027312688718, 1.350408574251556, 1.3507178341567192, 2.0624700015321626, 1.3508482677058096, 2.585204984939148, 4.15332679616864, 2.682659712872887, 5.760103216027282, 2.0392640603939443, 1.3287562066644139, 3.44188833419519, 6.386865378074659, 1.3302805688107262, 2.0889362741723754, 1.323936642861166, 1.9776323533616949, 3.41278774226252, 1.3324882957585795, 1.3243347923641842, 1.3190549505478633, 2.0475229040669114, 1.3211956345639786, 2.102128106359395, 4.319662646828313, 2.0490458270281335, 13.49507893828353, 3.5446554210047907, 5.478769152502734, 3.536589247855864, 8.47676859001507, 3.423323211007047, 2.7588534153175113, 14.775463950061829, 12.065138125389268, 7.02960005557824, 4.762958210573011, 8.026655614347657, 7.038777041691535, 11.939615124477406, 13.629821563420316, 28.895563935300988, 12.913487182705998, 12.121351814467163, 5.322448533682701, 6.364912730836747, 4.831033315236927, 23.85844633169484, 9.371892375288427, 8.059517839928661, 22.608669400672863, 7.8253183019591175, 13.755547986830443, 10.700478499641711, 16.06993051340197, 7.856619153603136, 7.74231081229362, 7.594634221509925, 11.998061357120376, 10.822069659974732, 16.826403671065922, 3.142199074179769, 1.9115383873524223, 1.9115363766689457, 1.9115233501183808, 1.9115077218606993, 1.911510180561841, 1.911528450140505, 1.9114965525757832, 1.9115020164039187, 1.9115018102230996, 1.9115085772055902, 1.9114870872003045, 1.9114541074343512, 5.812531525620213, 4.516581588665346, 6.466876420475844, 2.6482192511878377, 2.6488027824469977, 1.982527379663693, 2.6677894175240593, 1.9870647628437113, 2.6572403580788664, 2.6422379001523213, 3.3409177265092356, 2.0078444139455103, 1.3189764454796027, 1.3192058505050128, 1.3207601574947438, 1.3237514155350123, 1.324740943326732, 6.738544792869928, 2.6645922910800963, 3.4427404478974464, 3.413487502669939, 16.826403671065922, 9.051020248210023, 16.06993051340197, 23.85844633169484, 4.05194537217826, 8.535691925089136, 28.895563935300988, 10.013513818455507, 12.0142956516553, 8.519042164446963, 22.608669400672863, 9.25846630821944, 4.863439047772037, 11.939615124477406, 13.629821563420316, 13.755547986830443, 11.998061357120376, 3.9695941032188173, 7.046782515148332, 1.2096862494133331, 1.2097213761502577, 1.2097159231390833, 1.2097330785407245, 1.20977179549948, 1.2171127290452732, 1.2214658147380189, 1.2219514148480952, 1.2228335452784025, 1.2229739938295006, 1.223178556157678, 1.2238856946627799, 1.224098065629382, 3.2068385875110947, 2.590662474815037, 1.9464238670915381, 1.9539667774509324, 1.9575779287687718, 3.31210896441159, 2.670543187343963, 5.181345203991443, 1.967461017717367, 3.3519538812912555, 2.0014459096892407, 2.0147315644686015, 2.015210459342642, 2.0246906323647784, 1.3361779445247848, 2.708578727829997, 2.031891175015601, 2.6310563839354044, 2.713430368109332, 12.121351814467163, 3.4007762240244115, 9.371892375288427, 8.20364223969645, 4.087144935185269, 23.85844633169484, 7.8224501194649525, 5.506498150362628, 14.775463950061829, 16.06993051340197, 28.895563935300988, 11.998061357120376, 22.608669400672863, 16.826403671065922, 5.322448533682701, 12.0142956516553, 5.760103216027282, 7.784275625497482, 7.594634221509925, 8.330014005322973, 4.684640865602611, 8.592057163771868, 5.45818116061103, 12.913487182705998, 10.700478499641711, 11.939615124477406], \"Category\": [\"Default\", \"Default\", \"Default\", \"Default\", \"Default\", \"Default\", \"Default\", \"Default\", \"Default\", \"Default\", \"Default\", \"Default\", \"Default\", \"Default\", \"Default\", \"Default\", \"Default\", \"Default\", \"Default\", \"Default\", \"Default\", \"Default\", \"Default\", \"Default\", \"Default\", \"Default\", \"Default\", \"Default\", \"Default\", \"Default\", \"Topic1\", \"Topic1\", \"Topic1\", \"Topic1\", \"Topic1\", \"Topic1\", \"Topic1\", \"Topic1\", \"Topic1\", \"Topic1\", \"Topic1\", \"Topic1\", \"Topic1\", \"Topic1\", \"Topic1\", \"Topic1\", \"Topic1\", \"Topic1\", \"Topic1\", \"Topic1\", \"Topic1\", \"Topic1\", \"Topic1\", \"Topic1\", \"Topic1\", \"Topic1\", \"Topic1\", \"Topic1\", \"Topic1\", \"Topic1\", \"Topic1\", \"Topic1\", \"Topic1\", \"Topic1\", \"Topic1\", \"Topic1\", \"Topic1\", \"Topic1\", \"Topic1\", \"Topic1\", \"Topic1\", \"Topic1\", \"Topic1\", \"Topic1\", \"Topic1\", \"Topic1\", \"Topic1\", \"Topic1\", \"Topic1\", \"Topic1\", \"Topic1\", \"Topic1\", \"Topic1\", \"Topic1\", \"Topic1\", \"Topic1\", \"Topic1\", \"Topic1\", \"Topic1\", \"Topic1\", \"Topic1\", \"Topic1\", \"Topic1\", \"Topic1\", \"Topic2\", \"Topic2\", \"Topic2\", \"Topic2\", \"Topic2\", \"Topic2\", \"Topic2\", \"Topic2\", \"Topic2\", \"Topic2\", \"Topic2\", \"Topic2\", \"Topic2\", \"Topic2\", \"Topic2\", \"Topic2\", \"Topic2\", \"Topic2\", \"Topic2\", \"Topic2\", \"Topic2\", \"Topic2\", \"Topic2\", \"Topic2\", \"Topic2\", \"Topic2\", \"Topic2\", \"Topic2\", \"Topic2\", \"Topic2\", \"Topic2\", \"Topic2\", \"Topic2\", \"Topic2\", \"Topic2\", \"Topic2\", \"Topic2\", \"Topic2\", \"Topic2\", \"Topic2\", \"Topic2\", \"Topic2\", \"Topic2\", \"Topic2\", \"Topic2\", \"Topic2\", \"Topic2\", \"Topic2\", \"Topic2\", \"Topic2\", \"Topic2\", \"Topic2\", \"Topic2\", \"Topic2\", \"Topic2\", \"Topic2\", \"Topic2\", \"Topic2\", \"Topic2\", \"Topic2\", \"Topic2\", \"Topic2\", \"Topic2\", \"Topic2\", \"Topic2\", \"Topic2\", \"Topic2\", \"Topic3\", \"Topic3\", \"Topic3\", \"Topic3\", \"Topic3\", \"Topic3\", \"Topic3\", \"Topic3\", \"Topic3\", \"Topic3\", \"Topic3\", \"Topic3\", \"Topic3\", \"Topic3\", \"Topic3\", \"Topic3\", \"Topic3\", \"Topic3\", \"Topic3\", \"Topic3\", \"Topic3\", \"Topic3\", \"Topic3\", \"Topic3\", \"Topic3\", \"Topic3\", \"Topic3\", \"Topic3\", \"Topic3\", \"Topic3\", \"Topic3\", \"Topic3\", \"Topic3\", \"Topic3\", \"Topic3\", \"Topic3\", \"Topic3\", \"Topic3\", \"Topic3\", \"Topic3\", \"Topic3\", \"Topic3\", \"Topic3\", \"Topic3\", \"Topic3\", \"Topic3\", \"Topic3\", \"Topic3\", \"Topic3\", \"Topic3\", \"Topic3\", \"Topic3\", \"Topic3\", \"Topic3\", \"Topic3\", \"Topic3\", \"Topic3\", \"Topic3\", \"Topic3\", \"Topic3\", \"Topic3\", \"Topic3\", \"Topic3\", \"Topic3\", \"Topic3\", \"Topic4\", \"Topic4\", \"Topic4\", \"Topic4\", \"Topic4\", \"Topic4\", \"Topic4\", \"Topic4\", \"Topic4\", \"Topic4\", \"Topic4\", \"Topic4\", \"Topic4\", \"Topic4\", \"Topic4\", \"Topic4\", \"Topic4\", \"Topic4\", \"Topic4\", \"Topic4\", \"Topic4\", \"Topic4\", \"Topic4\", \"Topic4\", \"Topic4\", \"Topic4\", \"Topic4\", \"Topic4\", \"Topic4\", \"Topic4\", \"Topic4\", \"Topic4\", \"Topic4\", \"Topic4\", \"Topic4\", \"Topic4\", \"Topic4\", \"Topic4\", \"Topic4\", \"Topic4\", \"Topic4\", \"Topic4\", \"Topic4\", \"Topic4\", \"Topic4\", \"Topic4\", \"Topic4\", \"Topic4\", \"Topic4\", \"Topic4\", \"Topic4\", \"Topic4\", \"Topic4\", \"Topic5\", \"Topic5\", \"Topic5\", \"Topic5\", \"Topic5\", \"Topic5\", \"Topic5\", \"Topic5\", \"Topic5\", \"Topic5\", \"Topic5\", \"Topic5\", \"Topic5\", \"Topic5\", \"Topic5\", \"Topic5\", \"Topic5\", \"Topic5\", \"Topic5\", \"Topic5\", \"Topic5\", \"Topic5\", \"Topic5\", \"Topic5\", \"Topic5\", \"Topic5\", \"Topic5\", \"Topic5\", \"Topic5\", \"Topic5\", \"Topic5\", \"Topic5\", \"Topic5\", \"Topic5\", \"Topic5\", \"Topic5\", \"Topic5\", \"Topic5\", \"Topic5\", \"Topic5\", \"Topic5\", \"Topic5\", \"Topic5\", \"Topic5\", \"Topic5\", \"Topic5\", \"Topic5\", \"Topic5\", \"Topic5\", \"Topic5\", \"Topic5\", \"Topic5\", \"Topic5\", \"Topic5\", \"Topic5\", \"Topic5\", \"Topic5\", \"Topic5\"], \"logprob\": [30.0, 29.0, 28.0, 27.0, 26.0, 25.0, 24.0, 23.0, 22.0, 21.0, 20.0, 19.0, 18.0, 17.0, 16.0, 15.0, 14.0, 13.0, 12.0, 11.0, 10.0, 9.0, 8.0, 7.0, 6.0, 5.0, 4.0, 3.0, 2.0, 1.0, -5.8636, -6.2417, -5.9733, -6.2618, -5.6171, -6.027, -6.3388, -6.3383, -6.4012, -6.8055, -6.3874, -6.8106, -6.3979, -6.8158, -6.8161, -6.8166, -6.8196, -6.8198, -6.4372, -6.8331, -6.4415, -6.1488, -6.8488, -6.8514, -6.4712, -6.8638, -6.868, -6.8733, -6.4827, -6.9012, -6.2383, -5.6637, -4.325, -5.7302, -5.8509, -6.027, -4.2505, -5.2382, -6.0653, -5.3957, -5.7813, -5.2998, -5.4364, -5.1095, -4.6979, -5.3829, -5.0393, -5.8801, -5.5775, -5.1781, -5.3818, -5.3422, -5.3421, -5.3468, -5.3519, -5.3132, -5.2322, -5.6086, -5.3976, -5.4663, -5.6677, -5.7666, -5.7403, -5.7219, -6.6273, -6.6274, -6.6278, -5.8189, -6.3403, -6.437, -5.5793, -5.8909, -6.4871, -6.9827, -6.5723, -6.2797, -7.0129, -7.0154, -7.0304, -6.3269, -6.6323, -7.064, -7.0447, -6.6421, -6.6651, -6.6786, -7.0649, -6.6684, -7.0426, -7.0839, -6.1609, -7.0621, -7.0931, -6.3997, -5.1131, -6.2123, -5.7417, -5.726, -5.3255, -6.0089, -5.6696, -4.9806, -5.5019, -6.0384, -5.4339, -6.216, -5.4454, -5.5273, -6.0266, -6.0952, -5.1659, -4.5757, -4.7401, -5.059, -5.3701, -5.2412, -4.9018, -5.1268, -5.3791, -5.3933, -5.5393, -5.9515, -5.7118, -5.3794, -5.6812, -5.7255, -5.4525, -5.7428, -5.6484, -5.5916, -5.7409, -5.9448, -5.7942, -6.5496, -6.5506, -6.5503, -6.5508, -6.5529, -6.1303, -6.5543, -5.9222, -5.5414, -6.01, -5.2731, -6.3304, -6.776, -5.8284, -5.2178, -6.7885, -6.3429, -6.804, -6.4038, -5.8741, -6.8176, -6.8284, -6.8363, -6.4022, -6.858, -6.3937, -5.6736, -6.4222, -4.5482, -5.9132, -5.5262, -5.9331, -5.1871, -5.9823, -6.1717, -4.7795, -4.9763, -5.4157, -5.7518, -5.3683, -5.4697, -5.1228, -5.0595, -4.6076, -5.1196, -5.1792, -5.7293, -5.6301, -5.7929, -4.9573, -5.4439, -5.5388, -5.1215, -5.6146, -5.4134, -5.5187, -5.4335, -5.6271, -5.6543, -5.6673, -5.6201, -5.6415, -5.6481, -5.1791, -5.8257, -5.8257, -5.8258, -5.8258, -5.8258, -5.8258, -5.8259, -5.8259, -5.8259, -5.8259, -5.826, -5.8262, -4.7199, -5.0072, -4.7375, -5.6784, -5.7218, -6.0295, -5.7415, -6.0442, -5.7929, -5.8059, -5.5752, -6.1137, -6.5467, -6.5476, -6.556, -6.5725, -6.5779, -5.0393, -5.9312, -5.7496, -5.7808, -4.6693, -5.23, -4.9211, -4.7088, -5.7295, -5.4597, -5.0694, -5.4693, -5.4273, -5.5471, -5.3575, -5.5554, -5.6742, -5.5467, -5.5423, -5.5997, -5.6431, -5.767, -5.7428, -6.1759, -6.176, -6.1761, -6.1763, -6.1764, -6.2219, -6.2498, -6.253, -6.2587, -6.2595, -6.2609, -6.2655, -6.2671, -5.5498, -5.8116, -6.1762, -6.1763, -6.1772, -5.705, -5.9497, -5.2973, -6.2737, -5.808, -6.3303, -6.388, -6.3953, -6.4017, -6.8344, -6.1402, -6.4401, -6.1828, -6.166, -4.7718, -5.9609, -5.1312, -5.3045, -5.8712, -4.8175, -5.512, -5.7668, -5.2938, -5.2607, -5.016, -5.4339, -5.2985, -5.4854, -5.8362, -5.6223, -5.829, -5.7521, -5.7636, -5.7589, -5.9, -5.7852, -5.8958, -5.7483, -5.8651, -5.8837], \"loglift\": [30.0, 29.0, 28.0, 27.0, 26.0, 25.0, 24.0, 23.0, 22.0, 21.0, 20.0, 19.0, 18.0, 17.0, 16.0, 15.0, 14.0, 13.0, 12.0, 11.0, 10.0, 9.0, 8.0, 7.0, 6.0, 5.0, 4.0, 3.0, 2.0, 1.0, 0.9981, 0.9179, 0.8892, 0.8686, 0.8429, 0.8348, 0.8244, 0.8095, 0.7763, 0.7703, 0.7691, 0.7662, 0.7658, 0.762, 0.7618, 0.7614, 0.7589, 0.7588, 0.7299, 0.725, 0.7206, 0.7163, 0.7091, 0.7081, 0.7038, 0.6949, 0.6917, 0.6858, 0.6762, 0.672, 0.6557, 0.6365, 0.4983, 0.6031, 0.6088, 0.6146, 0.3275, 0.4779, 0.6063, 0.4632, 0.5391, 0.3259, 0.366, 0.2198, 0.0716, 0.2549, 0.0794, 0.4607, 0.3072, 0.0706, 0.1782, 0.1196, 0.1148, 0.1087, 0.0995, 0.007, -0.0675, 0.2462, -0.0143, -0.0197, 0.1316, 0.2225, 0.0505, -0.3826, 0.9204, 0.9203, 0.92, 0.8105, 0.8089, 0.7415, 0.731, 0.717, 0.6634, 0.6112, 0.6087, 0.5864, 0.5844, 0.5822, 0.5687, 0.555, 0.5494, 0.5387, 0.5331, 0.5272, 0.5179, 0.5172, 0.5133, 0.51, 0.509, 0.4945, 0.4902, 0.4896, 0.4871, 0.4863, 0.4582, 0.4684, 0.453, 0.4502, 0.4133, 0.4536, 0.4212, 0.3396, 0.3876, 0.4453, 0.3635, 0.4628, 0.3454, 0.353, 0.4267, 0.4226, 0.2175, 0.0023, 0.0294, 0.1057, 0.19, 0.0981, -0.0785, -0.0081, 0.0778, 0.0622, 0.0863, 0.3739, 0.1729, -0.1307, 0.1231, 0.1588, -0.1231, 0.1522, -0.0107, -0.1402, -0.2791, 1.2938, 1.1469, 1.0916, 1.0908, 1.0908, 1.0904, 1.0882, 1.0875, 1.0866, 1.0697, 0.9763, 0.9448, 0.9176, 0.8987, 0.8814, 0.8772, 0.8696, 0.8677, 0.8621, 0.857, 0.8559, 0.8401, 0.837, 0.8324, 0.8284, 0.8228, 0.8051, 0.805, 0.8049, 0.802, 0.7911, 0.7631, 0.7146, 0.7454, 0.6172, 0.7287, 0.7552, 0.4691, 0.475, 0.5758, 0.629, 0.4906, 0.5205, 0.339, 0.2699, -0.0297, 0.2638, 0.2675, 0.5404, 0.4607, 0.5737, -0.1878, 0.26, 0.316, -0.2982, 0.2696, -0.0932, 0.0527, -0.2688, 0.2532, 0.2407, 0.2469, -0.1632, -0.0814, -0.5294, 1.6176, 1.4681, 1.468, 1.468, 1.468, 1.468, 1.4679, 1.4679, 1.4678, 1.4678, 1.4678, 1.4678, 1.4676, 1.4618, 1.4267, 1.3375, 1.2894, 1.2457, 1.2278, 1.2189, 1.2108, 1.1715, 1.1642, 1.1602, 1.1309, 1.118, 1.117, 1.1075, 1.0887, 1.0826, 0.9945, 1.0304, 0.9558, 0.9332, 0.4494, 0.5088, 0.2436, 0.0607, 0.813, 0.3377, -0.4915, 0.1684, 0.0282, 0.2522, -0.5342, 0.1607, 0.6857, -0.085, -0.2129, -0.2795, -0.1862, 0.796, 0.2463, 1.5754, 1.5752, 1.5752, 1.575, 1.5748, 1.5232, 1.4918, 1.4882, 1.4817, 1.4808, 1.4793, 1.4741, 1.4724, 1.2266, 1.1782, 1.0994, 1.0955, 1.0928, 1.039, 1.0097, 0.9993, 0.9912, 0.9241, 0.9175, 0.8532, 0.8456, 0.8346, 0.8174, 0.805, 0.7926, 0.7915, 0.7775, 0.6749, 0.7568, 0.5727, 0.5326, 0.6626, -0.048, 0.3726, 0.4689, -0.0452, -0.096, -0.438, 0.023, -0.4751, -0.3667, 0.4335, -0.1668, 0.3617, 0.1374, 0.1506, 0.0629, 0.4974, 0.0056, 0.3487, -0.3649, -0.2937, -0.422]}, \"token.table\": {\"Topic\": [1, 2, 3, 4, 1, 2, 5, 1, 2, 3, 1, 4, 1, 2, 3, 1, 2, 4, 1, 3, 4, 5, 1, 2, 3, 1, 2, 3, 2, 4, 2, 4, 1, 1, 2, 3, 4, 2, 4, 4, 1, 2, 3, 5, 4, 1, 2, 5, 1, 2, 3, 4, 1, 2, 3, 4, 5, 1, 2, 3, 4, 5, 3, 1, 4, 4, 1, 4, 1, 2, 3, 4, 5, 1, 1, 2, 3, 5, 1, 5, 2, 1, 2, 3, 3, 1, 5, 4, 1, 2, 3, 4, 1, 2, 3, 4, 5, 1, 1, 1, 2, 3, 4, 5, 1, 3, 4, 5, 3, 2, 4, 4, 2, 1, 2, 3, 4, 5, 4, 1, 2, 3, 4, 5, 4, 4, 2, 1, 2, 3, 4, 3, 5, 2, 2, 4, 1, 1, 4, 1, 5, 1, 2, 3, 4, 5, 1, 5, 1, 5, 2, 5, 1, 1, 2, 3, 4, 5, 1, 2, 4, 1, 2, 3, 5, 3, 1, 2, 3, 4, 5, 1, 3, 4, 5, 2, 1, 4, 5, 1, 2, 1, 2, 3, 4, 1, 2, 3, 4, 2, 1, 2, 3, 4, 5, 1, 2, 3, 4, 1, 1, 2, 3, 4, 5, 1, 2, 5, 3, 1, 5, 5, 1, 1, 2, 3, 4, 5, 1, 2, 3, 4, 5, 1, 2, 3, 4, 1, 2, 3, 4, 5, 2, 1, 2, 5, 1, 2, 3, 4, 4, 1, 1, 5, 1, 2, 3, 4, 5, 2, 3, 1, 2, 3, 5, 1, 1, 2, 3, 4, 5, 1, 1, 3, 1, 3, 1, 2, 3, 4, 2, 3, 3, 1, 2, 4, 1, 1, 2, 3, 4, 5, 1, 2, 3, 4, 3, 1, 3, 1, 2, 3, 4, 1, 2, 3, 4, 5, 1, 2, 1, 2, 1, 5, 4, 1, 2, 3, 4, 5, 4, 1, 1, 4, 1, 2, 3, 4, 5, 4, 1, 3, 2, 3, 1, 2, 3, 4, 5, 2, 3, 2, 1, 2, 3, 2, 4, 2, 3, 1, 4, 4, 1, 2, 3, 4, 2, 5, 1, 2, 3, 4, 5, 2, 1, 2, 3, 4, 5, 1, 4, 2, 4, 1, 3, 4, 1, 1, 2, 3, 4, 5, 1, 2, 3, 4, 5, 2, 1, 2, 3, 3, 3, 1, 3, 1, 2, 3, 4, 5, 1, 2, 3, 4, 5, 5, 5, 1, 2, 3, 4, 3, 1, 2, 3, 4, 1, 3, 2, 4, 1, 2, 3, 4, 5, 3, 2, 2, 3, 1, 2, 4, 2, 4, 5, 2, 1, 2, 4, 2, 3, 1, 2, 4, 1, 2, 5, 2, 5, 1, 1, 2, 3, 4, 5, 1, 2, 3, 4, 5, 1, 2, 5, 1, 2, 3, 1, 2, 3, 4, 5, 1, 1, 2, 3, 4, 1, 1, 2, 4, 5, 1, 2, 1, 2, 3, 1, 2, 3, 4, 5, 3, 3, 4, 1, 3, 4, 1, 3, 5, 1, 2, 3, 5, 1, 2, 3, 4, 5, 4, 1, 2, 3, 4, 5, 1, 1, 2, 3, 4, 5, 2, 1, 2, 5, 1, 2, 3, 4, 5, 3, 1, 2, 3, 4, 5, 1, 1, 2, 3, 4, 5, 1, 2, 4, 2, 5], \"Freq\": [0.2327079245264553, 0.4654158490529106, 0.2327079245264553, 0.2327079245264553, 0.49622608664218537, 0.49622608664218537, 0.49622608664218537, 0.23149955951635348, 0.23149955951635348, 0.46299911903270696, 0.37529193616132867, 0.37529193616132867, 0.46093937844081684, 0.37276438573310144, 0.37276438573310144, 0.5811021280324259, 0.19370070934414196, 0.19370070934414196, 0.17360800015137498, 0.520824000454125, 0.17360800015137498, 0.17360800015137498, 0.49833955662056745, 0.12458488915514186, 0.3737546674654256, 0.27514498329010767, 0.5502899665802153, 0.27514498329010767, 0.709985350719447, 0.5231488072826026, 0.22140638453417175, 0.6642191536025153, 0.6935803897696188, 0.1743050868224541, 0.3486101736449082, 0.1743050868224541, 0.1743050868224541, 0.6770255515712696, 0.5231388533007965, 0.5231472457911812, 0.2099535531888898, 0.2099535531888898, 0.4199071063777796, 0.2099535531888898, 0.5044066529712369, 0.30192243393708945, 0.30192243393708945, 0.30192243393708945, 0.2930155859435449, 0.2930155859435449, 0.5860311718870898, 0.5231503026529021, 0.2400956347398669, 0.2400956347398669, 0.2400956347398669, 0.12004781736993345, 0.12004781736993345, 0.24749714767122083, 0.16499809844748056, 0.24749714767122083, 0.08249904922374028, 0.24749714767122083, 0.7525835025149625, 0.4980465583162154, 0.4980465583162154, 0.7548645680783201, 0.37752905071935455, 0.7550581014387091, 0.30975366633397683, 0.30975366633397683, 0.23231524975048262, 0.07743841658349421, 0.07743841658349421, 0.6955207070250171, 0.3422161714052213, 0.3422161714052213, 0.17110808570261066, 0.17110808570261066, 0.4560414077213066, 0.8186884871718502, 0.6966873163927688, 0.4921523417671825, 0.7088417244714601, 0.48485553693247535, 0.7353227208692469, 0.37445565559063965, 0.37445565559063965, 0.5231470116978952, 0.3722307040673483, 0.24815380271156556, 0.24815380271156556, 0.12407690135578278, 0.36684266017238176, 0.22010559610342906, 0.22010559610342906, 0.1467370640689527, 0.07336853203447635, 0.45936211396617344, 0.45914613072531535, 0.1869075294218821, 0.3738150588437642, 0.1869075294218821, 0.09345376471094105, 0.09345376471094105, 0.24679503501361774, 0.24679503501361774, 0.24679503501361774, 0.8175421282247296, 0.49507031137118507, 0.67439840996693, 0.5231465728872419, 0.5231528932087471, 0.7063202270932472, 0.38351155382058183, 0.2556743692137212, 0.1278371846068606, 0.1278371846068606, 0.1278371846068606, 0.5032548604852156, 0.2327731254434544, 0.3491596881651816, 0.1163865627217272, 0.1163865627217272, 0.1163865627217272, 0.5231415728740506, 0.5231619195619872, 0.674398320972802, 0.2407708444523267, 0.2407708444523267, 0.4815416889046534, 0.2407708444523267, 0.3868165216397873, 0.3868165216397873, 0.7124970956266836, 0.466187653281167, 0.466187653281167, 0.44429829918857716, 0.6824937089213302, 0.5231488637111391, 0.31183359333845495, 0.31183359333845495, 0.24891209060699343, 0.3111401132587418, 0.12445604530349672, 0.1866840679552451, 0.12445604530349672, 0.6817872510755962, 0.8266403548736525, 0.5082692825905096, 0.5082692825905096, 0.36853718884880815, 0.36853718884880815, 0.694299682952666, 0.3632072408611072, 0.1816036204305536, 0.1816036204305536, 0.1816036204305536, 0.1816036204305536, 0.9149110763009952, 0.37761223869642135, 0.7552244773928427, 0.4034855329078633, 0.20174276645393166, 0.20174276645393166, 0.20174276645393166, 0.7403470767262953, 0.25692820966526125, 0.3853923144978919, 0.12846410483263063, 0.12846410483263063, 0.12846410483263063, 0.1546341595200018, 0.1546341595200018, 0.6185366380800073, 0.8216165817150063, 0.6954516134034111, 0.6823903523757902, 0.5231429686370663, 0.8176788754670885, 0.3465511353289229, 0.3465511353289229, 0.12728121096991046, 0.38184363290973133, 0.2545624219398209, 0.12728121096991046, 0.2069950535936135, 0.2069950535936135, 0.413990107187227, 0.2069950535936135, 0.47432844121222156, 0.4423082058824031, 0.22115410294120155, 0.13269246176472094, 0.08846164117648063, 0.08846164117648063, 0.1571113450079523, 0.4713340350238569, 0.3142226900159046, 0.1571113450079523, 0.6792570713668987, 0.3946765188710283, 0.2960073891532712, 0.19733825943551414, 0.09866912971775707, 0.09866912971775707, 0.45714679024659666, 0.695247321719801, 0.826660632444962, 0.7402755912019143, 0.5117794281561738, 0.5117794281561738, 0.8266366286610046, 0.681292767601795, 0.36961506677358974, 0.2772113000801923, 0.18480753338679487, 0.09240376669339743, 0.09240376669339743, 0.1825227477495003, 0.1825227477495003, 0.3650454954990006, 0.1825227477495003, 0.1825227477495003, 0.2343102372429069, 0.35146535586436034, 0.11715511862145345, 0.2343102372429069, 0.21346353513298924, 0.21346353513298924, 0.21346353513298924, 0.21346353513298924, 0.21346353513298924, 0.45330915315008957, 0.36919731729605637, 0.36919731729605637, 0.36919731729605637, 0.1956525997676903, 0.5869577993030709, 0.1956525997676903, 0.1956525997676903, 0.758163652904645, 0.6918382093493395, 0.5137627096066486, 0.5137627096066486, 0.24379415161746543, 0.24379415161746543, 0.12189707580873271, 0.12189707580873271, 0.24379415161746543, 0.28275831031445686, 0.28275831031445686, 0.24466957151219065, 0.24466957151219065, 0.24466957151219065, 0.24466957151219065, 0.46456819209483224, 0.24077941713846038, 0.48155883427692076, 0.24077941713846038, 0.24077941713846038, 0.24077941713846038, 0.681833629078172, 0.6815284564770872, 0.3407642282385436, 0.2905381880245769, 0.5810763760491539, 0.11048478211036654, 0.44193912844146616, 0.22096956422073308, 0.22096956422073308, 0.5384094192956338, 0.2692047096478169, 0.7404986775598131, 0.29295551813733806, 0.29295551813733806, 0.29295551813733806, 0.6814161564541027, 0.43203699909226845, 0.21601849954613422, 0.10800924977306711, 0.21601849954613422, 0.10800924977306711, 0.2359389640948597, 0.2359389640948597, 0.35390844614228956, 0.11796948204742985, 0.47871254492729526, 0.4757084009175189, 0.4757084009175189, 0.29679998597266954, 0.14839999298633477, 0.14839999298633477, 0.4451999789590043, 0.35323001655076036, 0.23548667770050688, 0.23548667770050688, 0.11774333885025344, 0.11774333885025344, 0.679826543857897, 0.46190221867753817, 0.34113378143238143, 0.34113378143238143, 0.510835346733274, 0.510835346733274, 0.3784670562564981, 0.6006984394254521, 0.20023281314181735, 0.20023281314181735, 0.20023281314181735, 0.8170697675125065, 0.7554288428056837, 0.6950240744960368, 0.3748421796080468, 0.3748421796080468, 0.3329367044042145, 0.24970252830316086, 0.16646835220210726, 0.16646835220210726, 0.08323417610105363, 0.9547453643697326, 0.4883950250391538, 0.4883950250391538, 0.4677311399063392, 0.7404101715835525, 0.21340407250872304, 0.21340407250872304, 0.21340407250872304, 0.10670203625436152, 0.21340407250872304, 0.2821148690714015, 0.2821148690714015, 0.46616853002885383, 0.22782730883695193, 0.45565461767390386, 0.22782730883695193, 0.29046627683208615, 0.29046627683208615, 0.6744397895138292, 0.7517211206760708, 0.7015246795200453, 0.35076233976002263, 0.3763302769957102, 0.28414026870772524, 0.14207013435386262, 0.28414026870772524, 0.14207013435386262, 0.4963440379035092, 0.4963440379035092, 0.2971520294974154, 0.23772162359793234, 0.11886081179896617, 0.23772162359793234, 0.059430405899483084, 0.7086421124378184, 0.3350191742612875, 0.16750958713064376, 0.25126438069596563, 0.16750958713064376, 0.08375479356532188, 0.2993189542098817, 0.5986379084197634, 0.2833796197855535, 0.2833796197855535, 0.25191492480027916, 0.25191492480027916, 0.25191492480027916, 0.45209580136875954, 0.18788345132349854, 0.18788345132349854, 0.3757669026469971, 0.18788345132349854, 0.18788345132349854, 0.2633438216597047, 0.2633438216597047, 0.2633438216597047, 0.13167191082985236, 0.13167191082985236, 0.4682710386178427, 0.15657132893905668, 0.31314265787811335, 0.46971398681717, 0.7553231534092862, 0.7550960722060422, 0.46573314655963355, 0.740516625166006, 0.19300007249655, 0.19300007249655, 0.19300007249655, 0.19300007249655, 0.3860001449931, 0.2933971434133506, 0.25148326578287195, 0.16765551052191466, 0.16765551052191466, 0.08382775526095733, 0.8266021771379856, 0.8177727899771755, 0.39533075823717956, 0.19766537911858978, 0.19766537911858978, 0.19766537911858978, 0.4880320326707217, 0.28451120749222825, 0.14225560374611412, 0.28451120749222825, 0.14225560374611412, 0.4903729827940087, 0.4903729827940087, 0.17204207763729887, 0.6881683105491955, 0.270719079517179, 0.20303930963788425, 0.33839884939647374, 0.06767976987929475, 0.1353595397585895, 0.756890178743302, 0.6770918604221732, 0.292113814081209, 0.292113814081209, 0.20561581839050794, 0.20561581839050794, 0.4112316367810159, 0.6949689530183546, 0.5231394035736876, 0.8169280126146103, 0.4673760105794692, 0.26347070659672356, 0.5269414131934471, 0.7571397382980033, 0.3624694209731733, 0.3624694209731733, 0.5450597808635909, 0.27252989043179543, 0.27252989043179543, 0.3860016539095453, 0.3860016539095453, 0.3860016539095453, 0.4939026160416566, 0.4939026160416566, 0.6820689118248757, 0.39946017676909373, 0.2995951325768203, 0.09986504419227343, 0.19973008838454687, 0.09986504419227343, 0.38068127082169784, 0.2422517177956259, 0.17303694128258992, 0.10382216476955396, 0.06921477651303597, 0.294050514978201, 0.294050514978201, 0.294050514978201, 0.3479784705434521, 0.3479784705434521, 0.3479784705434521, 0.28381747211591085, 0.28381747211591085, 0.14190873605795543, 0.14190873605795543, 0.14190873605795543, 0.679230786966876, 0.3521522657230272, 0.2347681771486848, 0.2347681771486848, 0.2347681771486848, 0.6950494156387038, 0.3800754731467401, 0.3800754731467401, 0.3800754731467401, 0.3800754731467401, 0.45437251053337047, 0.22718625526668523, 0.28284114341752975, 0.28284114341752975, 0.28284114341752975, 0.33153370963757156, 0.24865028222817867, 0.33153370963757156, 0.08288342740939289, 0.08288342740939289, 0.7406033319535725, 0.5056551579468963, 0.5056551579468963, 0.5616070998264967, 0.28080354991324835, 0.28080354991324835, 0.45863534711352344, 0.7504756350829367, 0.8266286321659311, 0.1986389483265515, 0.397277896653103, 0.397277896653103, 0.818363142633059, 0.1832112146105558, 0.1832112146105558, 0.1832112146105558, 0.1832112146105558, 0.1832112146105558, 0.7580318110453984, 0.25558065791384965, 0.25558065791384965, 0.25558065791384965, 0.12779032895692483, 0.12779032895692483, 0.6955549478951547, 0.33338719322569205, 0.25004039491926905, 0.16669359661284602, 0.16669359661284602, 0.08334679830642301, 0.4527324787686591, 0.2983334602487953, 0.2983334602487953, 0.2983334602487953, 0.2907917593562684, 0.36348969919533547, 0.1453958796781342, 0.1453958796781342, 0.0726979398390671, 0.7581185299252732, 0.22230325689236588, 0.2964043425231545, 0.44460651378473176, 0.07410108563078863, 0.07410108563078863, 0.6951059570203296, 0.2583208099608068, 0.2583208099608068, 0.2583208099608068, 0.1291604049804034, 0.1291604049804034, 0.22574338596347318, 0.45148677192694636, 0.22574338596347318, 0.4996387837207489, 0.4996387837207489], \"Term\": [\"able\", \"able\", \"able\", \"able\", \"abroad\", \"abroad\", \"abroad\", \"acceptance\", \"acceptance\", \"acceptance\", \"accounting\", \"accounting\", \"across\", \"act\", \"act\", \"admission\", \"admission\", \"admission\", \"admit\", \"admit\", \"admit\", \"admit\", \"admitted\", \"admitted\", \"admitted\", \"ago\", \"ago\", \"ago\", \"applicant\", \"application\", \"applied\", \"applied\", \"architects\", \"area\", \"area\", \"area\", \"area\", \"auditing\", \"availablecoming\", \"availing\", \"average\", \"average\", \"average\", \"average\", \"away\", \"background\", \"background\", \"background\", \"based\", \"based\", \"based\", \"basisif\", \"best\", \"best\", \"best\", \"best\", \"best\", \"better\", \"better\", \"better\", \"better\", \"better\", \"bit\", \"blown\", \"blown\", \"body\", \"business\", \"business\", \"caltech\", \"caltech\", \"caltech\", \"caltech\", \"caltech\", \"came\", \"campus\", \"campus\", \"campus\", \"campus\", \"certainly\", \"chance\", \"changed\", \"check\", \"china\", \"choice\", \"choose\", \"city\", \"city\", \"claim\", \"class\", \"class\", \"class\", \"class\", \"classes\", \"classes\", \"classes\", \"classes\", \"classes\", \"coast\", \"coders\", \"college\", \"college\", \"college\", \"college\", \"college\", \"come\", \"come\", \"come\", \"commute\", \"compe\", \"competence\", \"completion\", \"congrats\", \"connected\", \"course\", \"course\", \"course\", \"course\", \"course\", \"coursera\", \"courses\", \"courses\", \"courses\", \"courses\", \"courses\", \"csdefinitely\", \"deadline\", \"demands\", \"difficult\", \"difficult\", \"difficult\", \"difficult\", \"directly\", \"directly\", \"dominant\", \"ease\", \"ease\", \"eecs\", \"electrical\", \"eligible\", \"else\", \"else\", \"engineering\", \"engineering\", \"engineering\", \"engineering\", \"engineering\", \"enough\", \"ent\", \"equal\", \"equal\", \"example\", \"example\", \"examples\", \"experience\", \"experience\", \"experience\", \"experience\", \"experience\", \"face\", \"facilities\", \"facilities\", \"faculty\", \"faculty\", \"faculty\", \"faculty\", \"fight\", \"find\", \"find\", \"find\", \"find\", \"find\", \"first\", \"first\", \"first\", \"forever\", \"founders\", \"friendly\", \"fro\", \"geared\", \"generally\", \"generally\", \"give\", \"give\", \"give\", \"give\", \"going\", \"going\", \"going\", \"going\", \"gone\", \"good\", \"good\", \"good\", \"good\", \"good\", \"gpa\", \"gpa\", \"gpa\", \"gpa\", \"grad\", \"great\", \"great\", \"great\", \"great\", \"great\", \"guy\", \"guys\", \"happened\", \"hardware\", \"harvard\", \"harvard\", \"helped\", \"hi\", \"high\", \"high\", \"high\", \"high\", \"high\", \"higher\", \"higher\", \"higher\", \"higher\", \"higher\", \"however\", \"however\", \"however\", \"however\", \"important\", \"important\", \"important\", \"important\", \"important\", \"india\", \"information\", \"information\", \"information\", \"interest\", \"interest\", \"interest\", \"interest\", \"interviews\", \"issue\", \"james\", \"james\", \"job\", \"job\", \"job\", \"job\", \"job\", \"kids\", \"kids\", \"last\", \"last\", \"last\", \"last\", \"league\", \"learning\", \"learning\", \"learning\", \"learning\", \"learning\", \"limited\", \"long\", \"long\", \"lower\", \"lower\", \"major\", \"major\", \"major\", \"major\", \"majors\", \"majors\", \"mandatory\", \"masters\", \"masters\", \"masters\", \"match\", \"math\", \"math\", \"math\", \"math\", \"math\", \"might\", \"might\", \"might\", \"might\", \"mine\", \"misguided\", \"misguided\", \"ms\", \"ms\", \"ms\", \"ms\", \"much\", \"much\", \"much\", \"much\", \"much\", \"name\", \"ncsa\", \"netscape\", \"netscape\", \"never\", \"never\", \"normal\", \"number\", \"number\", \"number\", \"number\", \"nwu\", \"offer\", \"oh\", \"online\", \"online\", \"opportunities\", \"opportunities\", \"opportunities\", \"opportunities\", \"opportunities\", \"option\", \"overall\", \"overall\", \"party\", \"path\", \"people\", \"people\", \"people\", \"people\", \"people\", \"perfect\", \"perfect\", \"perhaps\", \"place\", \"place\", \"place\", \"pre\", \"pre\", \"preferably\", \"premise\", \"prestigious\", \"prestigious\", \"priority\", \"professors\", \"professors\", \"professors\", \"professors\", \"profile\", \"profile\", \"program\", \"program\", \"program\", \"program\", \"program\", \"programme\", \"programs\", \"programs\", \"programs\", \"programs\", \"programs\", \"pursue\", \"pursue\", \"put\", \"put\", \"questions\", \"questions\", \"questions\", \"ra\", \"ranked\", \"ranked\", \"ranked\", \"ranked\", \"ranked\", \"ranking\", \"ranking\", \"ranking\", \"ranking\", \"ranking\", \"rarely\", \"rate\", \"rate\", \"rate\", \"rates\", \"reasons\", \"record\", \"registering\", \"reputation\", \"reputation\", \"reputation\", \"reputation\", \"reputation\", \"research\", \"research\", \"research\", \"research\", \"research\", \"residency\", \"resort\", \"said\", \"said\", \"said\", \"said\", \"sats\", \"say\", \"say\", \"say\", \"say\", \"saying\", \"saying\", \"scholarship\", \"scholarship\", \"schools\", \"schools\", \"schools\", \"schools\", \"schools\", \"scores\", \"seems\", \"selective\", \"selective\", \"semester\", \"semester\", \"semester\", \"sergey\", \"serve\", \"shadowed\", \"shortage\", \"show\", \"show\", \"signed\", \"simply\", \"simply\", \"size\", \"size\", \"size\", \"someone\", \"someone\", \"someone\", \"specializations\", \"specializations\", \"straight\", \"student\", \"student\", \"student\", \"student\", \"student\", \"students\", \"students\", \"students\", \"students\", \"students\", \"study\", \"study\", \"study\", \"talking\", \"talking\", \"talking\", \"technical\", \"technical\", \"technical\", \"technical\", \"technical\", \"tell\", \"think\", \"think\", \"think\", \"think\", \"thinks\", \"three\", \"three\", \"three\", \"three\", \"time\", \"time\", \"tons\", \"tons\", \"tons\", \"top\", \"top\", \"top\", \"top\", \"top\", \"transfer\", \"transferring\", \"transferring\", \"true\", \"true\", \"true\", \"trying\", \"ucb\", \"ultimately\", \"undergrad\", \"undergrad\", \"undergrad\", \"univ\", \"universities\", \"universities\", \"universities\", \"universities\", \"universities\", \"vision\", \"want\", \"want\", \"want\", \"want\", \"want\", \"wasting\", \"well\", \"well\", \"well\", \"well\", \"well\", \"whole\", \"without\", \"without\", \"without\", \"work\", \"work\", \"work\", \"work\", \"work\", \"wrong\", \"yale\", \"yale\", \"yale\", \"yale\", \"yale\", \"yeah\", \"year\", \"year\", \"year\", \"year\", \"year\", \"yes\", \"yes\", \"yes\", \"yocket\", \"yocket\"]}, \"R\": 30, \"lambda.step\": 0.01, \"plot.opts\": {\"xlab\": \"PC1\", \"ylab\": \"PC2\"}, \"topic.order\": [5, 2, 3, 1, 4]};\n",
       "\n",
       "function LDAvis_load_lib(url, callback){\n",
       "  var s = document.createElement('script');\n",
       "  s.src = url;\n",
       "  s.async = true;\n",
       "  s.onreadystatechange = s.onload = callback;\n",
       "  s.onerror = function(){console.warn(\"failed to load library \" + url);};\n",
       "  document.getElementsByTagName(\"head\")[0].appendChild(s);\n",
       "}\n",
       "\n",
       "if(typeof(LDAvis) !== \"undefined\"){\n",
       "   // already loaded: just create the visualization\n",
       "   !function(LDAvis){\n",
       "       new LDAvis(\"#\" + \"ldavis_el58851402312323634248841326781\", ldavis_el58851402312323634248841326781_data);\n",
       "   }(LDAvis);\n",
       "}else if(typeof define === \"function\" && define.amd){\n",
       "   // require.js is available: use it to load d3/LDAvis\n",
       "   require.config({paths: {d3: \"https://d3js.org/d3.v5\"}});\n",
       "   require([\"d3\"], function(d3){\n",
       "      window.d3 = d3;\n",
       "      LDAvis_load_lib(\"https://cdn.jsdelivr.net/gh/bmabey/pyLDAvis@3.3.1/pyLDAvis/js/ldavis.v3.0.0.js\", function(){\n",
       "        new LDAvis(\"#\" + \"ldavis_el58851402312323634248841326781\", ldavis_el58851402312323634248841326781_data);\n",
       "      });\n",
       "    });\n",
       "}else{\n",
       "    // require.js not available: dynamically load d3 & LDAvis\n",
       "    LDAvis_load_lib(\"https://d3js.org/d3.v5.js\", function(){\n",
       "         LDAvis_load_lib(\"https://cdn.jsdelivr.net/gh/bmabey/pyLDAvis@3.3.1/pyLDAvis/js/ldavis.v3.0.0.js\", function(){\n",
       "                 new LDAvis(\"#\" + \"ldavis_el58851402312323634248841326781\", ldavis_el58851402312323634248841326781_data);\n",
       "            })\n",
       "         });\n",
       "}\n",
       "</script>"
      ],
      "text/plain": [
       "PreparedData(topic_coordinates=              x         y  topics  cluster       Freq\n",
       "topic                                                \n",
       "4      0.004100 -0.002801       1        1  27.573788\n",
       "1      0.013317  0.001738       2        1  25.833278\n",
       "2      0.023238 -0.031332       3        1  19.450284\n",
       "0     -0.052896 -0.004911       4        1  16.304885\n",
       "3      0.012241  0.037306       5        1  10.837765, topic_info=             Term       Freq      Total Category  logprob  loglift\n",
       "498   scholarship   5.000000   5.000000  Default  30.0000  30.0000\n",
       "290         first   6.000000   6.000000  Default  29.0000  29.0000\n",
       "309       applied   4.000000   4.000000  Default  28.0000  28.0000\n",
       "518        option   3.000000   3.000000  Default  27.0000  27.0000\n",
       "142        better  12.000000  12.000000  Default  26.0000  26.0000\n",
       "..            ...        ...        ...      ...      ...      ...\n",
       "23        courses   0.936445   8.592057   Topic5  -5.7852   0.0056\n",
       "600  universities   0.838360   5.458181   Topic5  -5.8958   0.3487\n",
       "607       caltech   0.971613  12.913487   Topic5  -5.7483  -0.3649\n",
       "146       college   0.864557  10.700478   Topic5  -5.8651  -0.2937\n",
       "433      programs   0.848546  11.939615   Topic5  -5.8837  -0.4220\n",
       "\n",
       "[337 rows x 6 columns], token_table=      Topic      Freq    Term\n",
       "term                         \n",
       "207       1  0.232708    able\n",
       "207       2  0.465416    able\n",
       "207       3  0.232708    able\n",
       "207       4  0.232708    able\n",
       "520       1  0.496226  abroad\n",
       "...     ...       ...     ...\n",
       "664       1  0.225743     yes\n",
       "664       2  0.451487     yes\n",
       "664       4  0.225743     yes\n",
       "604       2  0.499639  yocket\n",
       "604       5  0.499639  yocket\n",
       "\n",
       "[537 rows x 3 columns], R=30, lambda_step=0.01, plot_opts={'xlab': 'PC1', 'ylab': 'PC2'}, topic_order=[5, 2, 3, 1, 4])"
      ]
     },
     "execution_count": 27,
     "metadata": {},
     "output_type": "execute_result"
    },
    {
     "name": "stderr",
     "output_type": "stream",
     "text": [
      "/opt/anaconda3/lib/python3.8/site-packages/past/builtins/misc.py:45: DeprecationWarning: the imp module is deprecated in favour of importlib; see the module's documentation for alternative uses\n",
      "  from imp import reload\n",
      "/opt/anaconda3/lib/python3.8/site-packages/past/builtins/misc.py:45: DeprecationWarning: the imp module is deprecated in favour of importlib; see the module's documentation for alternative uses\n",
      "  from imp import reload\n",
      "/opt/anaconda3/lib/python3.8/site-packages/past/builtins/misc.py:45: DeprecationWarning: the imp module is deprecated in favour of importlib; see the module's documentation for alternative uses\n",
      "  from imp import reload\n",
      "/opt/anaconda3/lib/python3.8/site-packages/past/builtins/misc.py:45: DeprecationWarning: the imp module is deprecated in favour of importlib; see the module's documentation for alternative uses\n",
      "  from imp import reload\n",
      "/opt/anaconda3/lib/python3.8/site-packages/past/builtins/misc.py:45: DeprecationWarning: the imp module is deprecated in favour of importlib; see the module's documentation for alternative uses\n",
      "  from imp import reload\n",
      "/opt/anaconda3/lib/python3.8/site-packages/past/builtins/misc.py:45: DeprecationWarning: the imp module is deprecated in favour of importlib; see the module's documentation for alternative uses\n",
      "  from imp import reload\n",
      "/opt/anaconda3/lib/python3.8/site-packages/past/builtins/misc.py:45: DeprecationWarning: the imp module is deprecated in favour of importlib; see the module's documentation for alternative uses\n",
      "  from imp import reload\n",
      "/opt/anaconda3/lib/python3.8/site-packages/past/builtins/misc.py:45: DeprecationWarning: the imp module is deprecated in favour of importlib; see the module's documentation for alternative uses\n",
      "  from imp import reload\n",
      "/opt/anaconda3/lib/python3.8/site-packages/past/builtins/misc.py:45: DeprecationWarning: the imp module is deprecated in favour of importlib; see the module's documentation for alternative uses\n",
      "  from imp import reload\n",
      "/opt/anaconda3/lib/python3.8/site-packages/past/builtins/misc.py:45: DeprecationWarning: the imp module is deprecated in favour of importlib; see the module's documentation for alternative uses\n",
      "  from imp import reload\n",
      "/opt/anaconda3/lib/python3.8/site-packages/past/builtins/misc.py:45: DeprecationWarning: the imp module is deprecated in favour of importlib; see the module's documentation for alternative uses\n",
      "  from imp import reload\n",
      "/opt/anaconda3/lib/python3.8/site-packages/past/builtins/misc.py:45: DeprecationWarning: the imp module is deprecated in favour of importlib; see the module's documentation for alternative uses\n",
      "  from imp import reload\n",
      "/opt/anaconda3/lib/python3.8/site-packages/past/builtins/misc.py:45: DeprecationWarning: the imp module is deprecated in favour of importlib; see the module's documentation for alternative uses\n",
      "  from imp import reload\n",
      "/opt/anaconda3/lib/python3.8/site-packages/past/builtins/misc.py:45: DeprecationWarning: the imp module is deprecated in favour of importlib; see the module's documentation for alternative uses\n",
      "  from imp import reload\n"
     ]
    }
   ],
   "source": [
    "#Create the folder & file location where the file needs to be dumped\n",
    "folder_file_location = 'ldavis_'+str(num_topics)\n",
    "ldavis_file_path = os.path.join(folder_file_location)\n",
    "\n",
    "#Create the ldavis model and dump the model in the specified folder\n",
    "ldavis_model = gensimvis.prepare(lda_model, corpus, id_to_word)\n",
    "with open(ldavis_file_path, 'wb') as f:\n",
    "    pickle.dump(ldavis_model, f)\n",
    "\n",
    "#Save the Model in the HTML form\n",
    "pyLDAvis.save_html(ldavis_model, folder_file_location +'.html')\n",
    "\n",
    "ldavis_model\n"
   ]
  }
 ],
 "metadata": {
  "kernelspec": {
   "display_name": "Python 3 (ipykernel)",
   "language": "python",
   "name": "python3"
  },
  "language_info": {
   "codemirror_mode": {
    "name": "ipython",
    "version": 3
   },
   "file_extension": ".py",
   "mimetype": "text/x-python",
   "name": "python",
   "nbconvert_exporter": "python",
   "pygments_lexer": "ipython3",
   "version": "3.8.8"
  }
 },
 "nbformat": 4,
 "nbformat_minor": 5
}
